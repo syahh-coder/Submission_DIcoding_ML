{
  "cells": [
    {
      "cell_type": "markdown",
      "metadata": {
        "id": "fKADPWcFKlj3"
      },
      "source": [
        "# **1. Import Library**"
      ]
    },
    {
      "cell_type": "markdown",
      "metadata": {
        "id": "LgA3ERnVn84N"
      },
      "source": [
        "Pada tahap ini, Anda perlu mengimpor beberapa pustaka (library) Python yang dibutuhkan untuk analisis data dan pembangunan model machine learning."
      ]
    },
    {
      "cell_type": "code",
      "execution_count": 2,
      "metadata": {
        "id": "BlmvjLY9M4Yj"
      },
      "outputs": [],
      "source": [
        "import pandas as pd\n",
        "import numpy as np\n",
        "from sklearn.model_selection import train_test_split\n"
      ]
    },
    {
      "cell_type": "markdown",
      "metadata": {
        "id": "f3YIEnAFKrKL"
      },
      "source": [
        "# **2. Memuat Dataset dari Hasil Clustering**"
      ]
    },
    {
      "cell_type": "markdown",
      "metadata": {
        "id": "Ey3ItwTen_7E"
      },
      "source": [
        "Memuat dataset hasil clustering dari file CSV ke dalam variabel DataFrame."
      ]
    },
    {
      "cell_type": "code",
      "execution_count": 3,
      "metadata": {
        "id": "GHCGNTyrM5fS"
      },
      "outputs": [
        {
          "name": "stdout",
          "output_type": "stream",
          "text": [
            "<class 'pandas.core.frame.DataFrame'>\n",
            "RangeIndex: 12218 entries, 0 to 12217\n",
            "Data columns (total 11 columns):\n",
            " #   Column           Non-Null Count  Dtype  \n",
            "---  ------           --------------  -----  \n",
            " 0   sports           12218 non-null  float64\n",
            " 1   entertainment    12218 non-null  float64\n",
            " 2   religion         12218 non-null  float64\n",
            " 3   fashion          12218 non-null  float64\n",
            " 4   negative         12218 non-null  float64\n",
            " 5   misc             12218 non-null  float64\n",
            " 6   gradyear         12218 non-null  float64\n",
            " 7   gender           12218 non-null  float64\n",
            " 8   age              12218 non-null  float64\n",
            " 9   NumberOffriends  12218 non-null  float64\n",
            " 10  labels           12218 non-null  int64  \n",
            "dtypes: float64(10), int64(1)\n",
            "memory usage: 1.0 MB\n"
          ]
        }
      ],
      "source": [
        "df = pd.read_csv(r'C:\\Users\\ukasy\\project ML\\subbmission\\Datasets_Klasifikasi.csv')\n",
        "\n",
        "\n",
        "df.info()"
      ]
    },
    {
      "cell_type": "markdown",
      "metadata": {},
      "source": [
        "Remove Outliers"
      ]
    },
    {
      "cell_type": "code",
      "execution_count": 4,
      "metadata": {},
      "outputs": [
        {
          "name": "stdout",
          "output_type": "stream",
          "text": [
            "<class 'pandas.core.frame.DataFrame'>\n",
            "Index: 12186 entries, 0 to 12217\n",
            "Data columns (total 11 columns):\n",
            " #   Column           Non-Null Count  Dtype  \n",
            "---  ------           --------------  -----  \n",
            " 0   sports           12186 non-null  float64\n",
            " 1   entertainment    12186 non-null  float64\n",
            " 2   religion         12186 non-null  float64\n",
            " 3   fashion          12186 non-null  float64\n",
            " 4   negative         12186 non-null  float64\n",
            " 5   misc             12186 non-null  float64\n",
            " 6   gradyear         12186 non-null  float64\n",
            " 7   gender           12186 non-null  float64\n",
            " 8   age              12186 non-null  float64\n",
            " 9   NumberOffriends  12186 non-null  float64\n",
            " 10  labels           12186 non-null  int64  \n",
            "dtypes: float64(10), int64(1)\n",
            "memory usage: 1.1 MB\n"
          ]
        },
        {
          "data": {
            "text/plain": [
              "labels\n",
              "1    2518\n",
              "5    2465\n",
              "0    2439\n",
              "4    2422\n",
              "3     698\n",
              "6     617\n",
              "2     543\n",
              "7     472\n",
              "8       6\n",
              "9       6\n",
              "Name: count, dtype: int64"
            ]
          },
          "execution_count": 4,
          "metadata": {},
          "output_type": "execute_result"
        }
      ],
      "source": [
        "df = df[df['labels'] != -1]\n",
        "\n",
        "df.info()\n",
        "\n",
        "df['labels'].value_counts()"
      ]
    },
    {
      "cell_type": "markdown",
      "metadata": {
        "id": "KkPem5eWL2UP"
      },
      "source": [
        "# **3. Data Splitting**"
      ]
    },
    {
      "cell_type": "markdown",
      "metadata": {
        "id": "YYj1rl_JNI9Y"
      },
      "source": [
        "Tahap Data Splitting bertujuan untuk memisahkan dataset menjadi dua bagian: data latih (training set) dan data uji (test set)."
      ]
    },
    {
      "cell_type": "code",
      "execution_count": 5,
      "metadata": {
        "id": "OubAW-7ONKVj"
      },
      "outputs": [],
      "source": [
        "x = df.drop(columns=['labels'])\n",
        "y= df['labels']\n",
        "\n",
        "x_train, x_test, y_train, y_test = train_test_split(x,y, random_state=42, test_size=0.2)"
      ]
    },
    {
      "cell_type": "markdown",
      "metadata": {
        "id": "IVPbB03CMhTT"
      },
      "source": [
        "# **4. Membangun Model Klasifikasi**\n"
      ]
    },
    {
      "cell_type": "markdown",
      "metadata": {
        "id": "Ned1pL9zMmBK"
      },
      "source": [
        "## **a. Membangun Model Klasifikasi**"
      ]
    },
    {
      "cell_type": "markdown",
      "metadata": {
        "id": "WAWzPOE4Nkti"
      },
      "source": [
        "Setelah memilih algoritma klasifikasi yang sesuai, langkah selanjutnya adalah melatih model menggunakan data latih.\n",
        "\n",
        "Berikut adalah rekomendasi tahapannya.\n",
        "1. Pilih algoritma klasifikasi yang sesuai, seperti Logistic Regression, Decision Tree, Random Forest, atau K-Nearest Neighbors (KNN).\n",
        "2. Latih model menggunakan data latih."
      ]
    },
    {
      "cell_type": "markdown",
      "metadata": {},
      "source": [
        "1. RandomForestClassifier"
      ]
    },
    {
      "cell_type": "code",
      "execution_count": 6,
      "metadata": {
        "id": "4JYxBe87NLDk"
      },
      "outputs": [],
      "source": [
        "from sklearn.ensemble import RandomForestClassifier\n",
        "\n",
        "model = RandomForestClassifier(random_state=42, n_estimators=100)\n",
        "\n",
        "model.fit(x_train,y_train)\n",
        "\n",
        "y_predict = model.predict(x_test)\n",
        "\n",
        "\n",
        "\n"
      ]
    },
    {
      "cell_type": "markdown",
      "metadata": {},
      "source": [
        "2. XGBoostClassifier\n"
      ]
    },
    {
      "cell_type": "code",
      "execution_count": 8,
      "metadata": {},
      "outputs": [],
      "source": [
        "from xgboost import XGBClassifier\n",
        "\n",
        "\n",
        "\n",
        "model_2 = XGBClassifier(objective= 'multi:softmax', eval_metric = 'logloss',num_class=10)\n",
        "\n",
        "\n",
        "model_2.fit(x_train,y_train)\n",
        "\n",
        "y_predict_2 = model_2.predict(x_test)"
      ]
    },
    {
      "cell_type": "markdown",
      "metadata": {
        "id": "seYoHNY3XU1y"
      },
      "source": [
        "Tulis narasi atau penjelasan algoritma yang Anda gunakan."
      ]
    },
    {
      "cell_type": "markdown",
      "metadata": {},
      "source": [
        "1. RandomForestClassifier\n",
        "\n",
        "RandomForestClassifier adalah sebuah algoritma klasifikasi yang sangat powerful dimana berisi banyak pohon keputusan di dalamnya. Tujuan banyaknya Pohon Keputusan ini untuk mengurangi overfitting pada model, sehingga tidak seperti pada 1 pohon keputusan yang sangat memungkinkan model overfitting, kemudian apabila ada suatu pohon keputusan yang kurang akurat untuk klasifikasi maka akan tetap dihitung pada voting mayoritas, sehingga model tetap stabil dan generalisasi tapi tetap dapat mengabaikan pohon keputusan yang kurg akurat.\n",
        "\n",
        "penjelasan parameter\n",
        "n_estimator : n_estimators adalah jumlah pohon keputusan (decision trees) yang akan dibuat dalam Random Forest. Semakin banyak pohon (n_estimators besar), model biasanya lebih akurat tetapi juga lebih lambat. Jika terlalu sedikit, model bisa underfitting.\n",
        "\n",
        "random_state : random_state adalah nilai acak yang digunakan untuk memastikan hasil model tetap konsisten setiap kali dijalankan.\n",
        "\n",
        "2. xgboostclassifier\n",
        "\n",
        "XGBoostClassifier adalah algoritma klasifikasi berbasis gradient boosting yang sangat powerful dan sering digunakan dalam kompetisi machine learning karena memiliki performa tinggi. Algoritma ini membangun banyak pohon keputusan secara bertahap, di mana setiap pohon baru mencoba memperbaiki kesalahan dari pohon sebelumnya.\n",
        "\n",
        "Berbeda dengan RandomForestClassifier, yang membangun banyak pohon secara paralel dan menggunakan voting mayoritas, XGBoostClassifier membangun pohon secara berurutan dan mengoptimalkan loss function pada setiap iterasi, sehingga model lebih akurat tetapi juga lebih kompleks.\n",
        "\n",
        "penjelasan parameter\n",
        "\n"
      ]
    },
    {
      "cell_type": "markdown",
      "metadata": {
        "id": "ergzChZFEL-O"
      },
      "source": [
        "## **b. Evaluasi Model Klasifikasi**"
      ]
    },
    {
      "cell_type": "markdown",
      "metadata": {
        "id": "zOm68u-7NpLT"
      },
      "source": [
        "Berikut adalah **rekomendasi** tahapannya.\n",
        "1. Lakukan prediksi menggunakan data uji.\n",
        "2. Hitung metrik evaluasi seperti Accuracy dan F1-Score (Opsional: Precision dan Recall).\n",
        "3. Buat confusion matrix untuk melihat detail prediksi benar dan salah."
      ]
    },
    {
      "cell_type": "code",
      "execution_count": 9,
      "metadata": {
        "id": "tMq4QAssNLip"
      },
      "outputs": [
        {
          "name": "stdout",
          "output_type": "stream",
          "text": [
            "score F1 dari model Randomforrest weighted = 0.9995227888186157\n",
            "score F1 dari model Randomforrest micro = 0.9995898277276456\n",
            "score F1 dari model Randomforrest macro = 0.9622461170848268\n"
          ]
        }
      ],
      "source": [
        "from sklearn.metrics import f1_score\n",
        "\n",
        "\n",
        "\n",
        "score_f1 = f1_score(y_true = y_test, y_pred=  y_predict, average='weighted')\n",
        "score_f1_micro = f1_score(y_true = y_test, y_pred=  y_predict, average='micro')\n",
        "score_f1_macro = f1_score(y_true = y_test, y_pred=  y_predict, average='macro')\n",
        "\n",
        "print(f'score F1 dari model Randomforrest weighted = {score_f1}')\n",
        "print(f'score F1 dari model Randomforrest micro = {score_f1_micro}')\n",
        "print(f'score F1 dari model Randomforrest macro = {score_f1_macro}')"
      ]
    },
    {
      "cell_type": "code",
      "execution_count": 12,
      "metadata": {},
      "outputs": [
        {
          "name": "stdout",
          "output_type": "stream",
          "text": [
            "score F1 dari model XGBClassifer weighted = 1.0\n",
            "score F1 dari model XGBClassifier micro = 1.0\n",
            "score F1 dari model XGBClassifier macro = 1.0\n"
          ]
        }
      ],
      "source": [
        "score_f1_XGB = f1_score(y_true = y_test, y_pred=  y_predict_2, average='weighted')\n",
        "score_f1_micro_XGB = f1_score(y_true = y_test, y_pred=  y_predict_2, average='micro')\n",
        "score_f1_macro_XGB = f1_score(y_true = y_test, y_pred=  y_predict_2, average='macro')\n",
        "\n",
        "print(f'score F1 dari model XGBClassifer weighted = {score_f1_XGB}')\n",
        "print(f'score F1 dari model XGBClassifier micro = {score_f1_micro_XGB}')\n",
        "print(f'score F1 dari model XGBClassifier macro = {score_f1_macro_XGB}')"
      ]
    },
    {
      "cell_type": "markdown",
      "metadata": {
        "id": "H4_9OwrsXZlz"
      },
      "source": [
        "Tulis hasil evaluasi algoritma yang digunakan, jika Anda menggunakan 2 algoritma, maka bandingkan hasilnya."
      ]
    },
    {
      "cell_type": "markdown",
      "metadata": {
        "id": "ph9yIYDXEPuB"
      },
      "source": [
        "## **c. Tuning Model Klasifikasi (Optional)**"
      ]
    },
    {
      "cell_type": "markdown",
      "metadata": {
        "id": "-Bikx3LINv5e"
      },
      "source": [
        "Gunakan GridSearchCV, RandomizedSearchCV, atau metode lainnya untuk mencari kombinasi hyperparameter terbaik"
      ]
    },
    {
      "cell_type": "code",
      "execution_count": null,
      "metadata": {
        "id": "winbFzb8NL95"
      },
      "outputs": [],
      "source": [
        "#Type your code here"
      ]
    },
    {
      "cell_type": "markdown",
      "metadata": {
        "id": "hE7pqlEPEYzI"
      },
      "source": [
        "## **d. Evaluasi Model Klasifikasi setelah Tuning (Optional)**"
      ]
    },
    {
      "cell_type": "markdown",
      "metadata": {
        "id": "feaPESoeN0zz"
      },
      "source": [
        "Berikut adalah rekomendasi tahapannya.\n",
        "1. Gunakan model dengan hyperparameter terbaik.\n",
        "2. Hitung ulang metrik evaluasi untuk melihat apakah ada peningkatan performa."
      ]
    },
    {
      "cell_type": "code",
      "execution_count": null,
      "metadata": {
        "id": "HTXZRvEeNMb1"
      },
      "outputs": [],
      "source": [
        "#Type your code here"
      ]
    },
    {
      "cell_type": "markdown",
      "metadata": {
        "id": "ZRsOdm4uEgAW"
      },
      "source": [
        "## **e. Analisis Hasil Evaluasi Model Klasifikasi**"
      ]
    },
    {
      "cell_type": "markdown",
      "metadata": {
        "id": "Hm3BhSi6N4_l"
      },
      "source": [
        "Berikut adalah **rekomendasi** tahapannya.\n",
        "1. Bandingkan hasil evaluasi sebelum dan setelah tuning (jika dilakukan).\n",
        "2. Identifikasi kelemahan model, seperti:\n",
        "  - Precision atau Recall rendah untuk kelas tertentu.\n",
        "  - Apakah model mengalami overfitting atau underfitting?\n",
        "3. Berikan rekomendasi tindakan lanjutan, seperti mengumpulkan data tambahan atau mencoba algoritma lain jika hasil belum memuaskan."
      ]
    }
  ],
  "metadata": {
    "colab": {
      "provenance": []
    },
    "kernelspec": {
      "display_name": "Python 3",
      "name": "python3"
    },
    "language_info": {
      "codemirror_mode": {
        "name": "ipython",
        "version": 3
      },
      "file_extension": ".py",
      "mimetype": "text/x-python",
      "name": "python",
      "nbconvert_exporter": "python",
      "pygments_lexer": "ipython3",
      "version": "3.12.4"
    }
  },
  "nbformat": 4,
  "nbformat_minor": 0
}
